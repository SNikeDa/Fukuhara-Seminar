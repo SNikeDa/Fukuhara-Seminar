{
 "cells": [
  {
   "cell_type": "markdown",
   "metadata": {},
   "source": [
    "# Prepatation"
   ]
  },
  {
   "cell_type": "markdown",
   "metadata": {},
   "source": [
    "## Instaling Libararies"
   ]
  },
  {
   "cell_type": "code",
   "execution_count": 14,
   "metadata": {},
   "outputs": [],
   "source": [
    "import pandas as pd\n",
    "import pandas_datareader.data as web\n",
    "import numpy as np\n",
    "import matplotlib.pyplot as plt\n",
    "import datetime\n",
    "import yfinance as yf\n",
    "import statsmodels.stats.api as sms\n",
    "from statsmodels.compat import lzip\n",
    "from scipy.optimize import minimize\n",
    "import cvxpy as cp\n",
    "import pytz\n",
    "import statsmodels.api as sm\n",
    "from statsmodels.tsa.stattools import adfuller\n",
    "from statsmodels.graphics.tsaplots import plot_acf, plot_pacf\n",
    "from statsmodels.tsa.seasonal import seasonal_decompose\n",
    "from statsmodels.tsa.seasonal import STL\n",
    "import seaborn as sns\n",
    "# from sklearn.model_selection import TimeSeriesSplit\n",
    "import statsmodels.tsa.api as smt\n",
    "from copy import deepcopy\n",
    "from statsmodels.tsa.arima.model import ARIMA\n",
    "from statsmodels.tsa.stattools import arma_order_select_ic\n",
    "import warnings\n",
    "warnings.filterwarnings(\"ignore\")\n",
    "import statsmodels.tools.eval_measures\n",
    "import scipy \n",
    "from scipy import stats\n",
    "import time\n",
    "from matplotlib.dates import DateFormatter\n",
    "from matplotlib.dates import YearLocator, DateFormatter\n",
    "from statsmodels.tsa.api import VAR"
   ]
  },
  {
   "cell_type": "code",
   "execution_count": 17,
   "metadata": {},
   "outputs": [],
   "source": [
    "df_main = pd.read_excel('./RAW_DATA.xlsx')\n"
   ]
  },
  {
   "cell_type": "code",
   "execution_count": null,
   "metadata": {},
   "outputs": [],
   "source": []
  },
  {
   "cell_type": "markdown",
   "metadata": {},
   "source": [
    "# Data Formatting"
   ]
  },
  {
   "cell_type": "code",
   "execution_count": 19,
   "metadata": {},
   "outputs": [
    {
     "data": {
      "text/html": [
       "<div>\n",
       "<style scoped>\n",
       "    .dataframe tbody tr th:only-of-type {\n",
       "        vertical-align: middle;\n",
       "    }\n",
       "\n",
       "    .dataframe tbody tr th {\n",
       "        vertical-align: top;\n",
       "    }\n",
       "\n",
       "    .dataframe thead th {\n",
       "        text-align: right;\n",
       "    }\n",
       "</style>\n",
       "<table border=\"1\" class=\"dataframe\">\n",
       "  <thead>\n",
       "    <tr style=\"text-align: right;\">\n",
       "      <th></th>\n",
       "      <th>Unnamed: 0</th>\n",
       "      <th>BTCUSD</th>\n",
       "      <th>Unnamed: 2</th>\n",
       "      <th>DXY</th>\n",
       "      <th>Unnamed: 4</th>\n",
       "      <th>SPX</th>\n",
       "    </tr>\n",
       "  </thead>\n",
       "  <tbody>\n",
       "    <tr>\n",
       "      <th>0</th>\n",
       "      <td>2014-09-17</td>\n",
       "      <td>457.334015</td>\n",
       "      <td>2014-09-17</td>\n",
       "      <td>84.699997</td>\n",
       "      <td>2014-09-17</td>\n",
       "      <td>2001.57</td>\n",
       "    </tr>\n",
       "    <tr>\n",
       "      <th>1</th>\n",
       "      <td>2014-09-18</td>\n",
       "      <td>424.440002</td>\n",
       "      <td>2014-09-18</td>\n",
       "      <td>84.320000</td>\n",
       "      <td>2014-09-18</td>\n",
       "      <td>2011.36</td>\n",
       "    </tr>\n",
       "    <tr>\n",
       "      <th>2</th>\n",
       "      <td>2014-09-19</td>\n",
       "      <td>394.795990</td>\n",
       "      <td>2014-09-19</td>\n",
       "      <td>84.800003</td>\n",
       "      <td>2014-09-19</td>\n",
       "      <td>2010.4</td>\n",
       "    </tr>\n",
       "    <tr>\n",
       "      <th>3</th>\n",
       "      <td>2014-09-20</td>\n",
       "      <td>408.903992</td>\n",
       "      <td>2014-09-21</td>\n",
       "      <td>NaN</td>\n",
       "      <td>2014-09-22</td>\n",
       "      <td>1994.29</td>\n",
       "    </tr>\n",
       "    <tr>\n",
       "      <th>4</th>\n",
       "      <td>2014-09-21</td>\n",
       "      <td>398.821014</td>\n",
       "      <td>2014-09-22</td>\n",
       "      <td>84.669998</td>\n",
       "      <td>2014-09-23</td>\n",
       "      <td>1982.77</td>\n",
       "    </tr>\n",
       "    <tr>\n",
       "      <th>5</th>\n",
       "      <td>2014-09-22</td>\n",
       "      <td>402.152008</td>\n",
       "      <td>2014-09-23</td>\n",
       "      <td>84.660004</td>\n",
       "      <td>2014-09-24</td>\n",
       "      <td>1998.3</td>\n",
       "    </tr>\n",
       "    <tr>\n",
       "      <th>6</th>\n",
       "      <td>2014-09-23</td>\n",
       "      <td>435.790985</td>\n",
       "      <td>2014-09-24</td>\n",
       "      <td>85.050003</td>\n",
       "      <td>2014-09-25</td>\n",
       "      <td>1965.99</td>\n",
       "    </tr>\n",
       "    <tr>\n",
       "      <th>7</th>\n",
       "      <td>2014-09-24</td>\n",
       "      <td>423.204987</td>\n",
       "      <td>2014-09-25</td>\n",
       "      <td>85.199997</td>\n",
       "      <td>2014-09-26</td>\n",
       "      <td>1982.85</td>\n",
       "    </tr>\n",
       "    <tr>\n",
       "      <th>8</th>\n",
       "      <td>2014-09-25</td>\n",
       "      <td>411.574005</td>\n",
       "      <td>2014-09-26</td>\n",
       "      <td>85.639999</td>\n",
       "      <td>2014-09-29</td>\n",
       "      <td>1977.8</td>\n",
       "    </tr>\n",
       "    <tr>\n",
       "      <th>9</th>\n",
       "      <td>2014-09-26</td>\n",
       "      <td>404.424988</td>\n",
       "      <td>2014-09-28</td>\n",
       "      <td>NaN</td>\n",
       "      <td>2014-09-30</td>\n",
       "      <td>1972.29</td>\n",
       "    </tr>\n",
       "  </tbody>\n",
       "</table>\n",
       "</div>"
      ],
      "text/plain": [
       "  Unnamed: 0      BTCUSD Unnamed: 2        DXY Unnamed: 4      SPX\n",
       "0 2014-09-17  457.334015 2014-09-17  84.699997 2014-09-17  2001.57\n",
       "1 2014-09-18  424.440002 2014-09-18  84.320000 2014-09-18  2011.36\n",
       "2 2014-09-19  394.795990 2014-09-19  84.800003 2014-09-19   2010.4\n",
       "3 2014-09-20  408.903992 2014-09-21        NaN 2014-09-22  1994.29\n",
       "4 2014-09-21  398.821014 2014-09-22  84.669998 2014-09-23  1982.77\n",
       "5 2014-09-22  402.152008 2014-09-23  84.660004 2014-09-24   1998.3\n",
       "6 2014-09-23  435.790985 2014-09-24  85.050003 2014-09-25  1965.99\n",
       "7 2014-09-24  423.204987 2014-09-25  85.199997 2014-09-26  1982.85\n",
       "8 2014-09-25  411.574005 2014-09-26  85.639999 2014-09-29   1977.8\n",
       "9 2014-09-26  404.424988 2014-09-28        NaN 2014-09-30  1972.29"
      ]
     },
     "execution_count": 19,
     "metadata": {},
     "output_type": "execute_result"
    }
   ],
   "source": [
    "df_main.head(10)"
   ]
  },
  {
   "cell_type": "code",
   "execution_count": null,
   "metadata": {},
   "outputs": [],
   "source": []
  },
  {
   "cell_type": "code",
   "execution_count": null,
   "metadata": {},
   "outputs": [],
   "source": []
  },
  {
   "cell_type": "markdown",
   "metadata": {},
   "source": [
    "# Data Analysis"
   ]
  },
  {
   "cell_type": "code",
   "execution_count": null,
   "metadata": {},
   "outputs": [],
   "source": []
  },
  {
   "cell_type": "code",
   "execution_count": null,
   "metadata": {},
   "outputs": [],
   "source": []
  }
 ],
 "metadata": {
  "kernelspec": {
   "display_name": "Analysis",
   "language": "python",
   "name": "python3"
  },
  "language_info": {
   "codemirror_mode": {
    "name": "ipython",
    "version": 3
   },
   "file_extension": ".py",
   "mimetype": "text/x-python",
   "name": "python",
   "nbconvert_exporter": "python",
   "pygments_lexer": "ipython3",
   "version": "3.11.5"
  }
 },
 "nbformat": 4,
 "nbformat_minor": 2
}
