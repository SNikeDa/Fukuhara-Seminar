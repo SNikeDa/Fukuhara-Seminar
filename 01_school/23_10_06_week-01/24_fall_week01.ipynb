{
 "cells": [
  {
   "cell_type": "code",
   "execution_count": 2,
   "metadata": {},
   "outputs": [],
   "source": [
    "import os\n",
    "import datetime as dt\n",
    "import pandas_datareader.data as web\n",
    "\n",
    "#input ticker code(stock code)\n",
    "ticker_symbol = \"7177\"\n",
    "ticker_symbol_dr = ticker_symbol + \".JP\"\n",
    "\n",
    "#2022-01-01以降の株価取得\n",
    "start = \"2013-10-01\"\n",
    "end = \"2023-10-01\"\n",
    "\n",
    "#Aquitre data\n",
    "df = web.DataReader(ticker_symbol_dr, data_source='stooq', start=start, end=end)\n",
    "\n",
    "#incert ticker code in 2nd row\n",
    "df.insert(0, \"code\", ticker_symbol, allow_duplicates=False)\n",
    "\n",
    "#save into csv\n",
    "df.to_csv( '/Users/klynoaguilar/Desktop/01_school/'+ ticker_symbol + '.csv')\n"
   ]
  },
  {
   "cell_type": "code",
   "execution_count": 4,
   "metadata": {},
   "outputs": [
    {
     "name": "stdout",
     "output_type": "stream",
     "text": [
      "Saved data to /Users/klynoaguilar/Desktop/01_school/9984.csv\n"
     ]
    }
   ],
   "source": [
    "import os\n",
    "import datetime as dt\n",
    "import pandas_datareader.data as web\n",
    "\n",
    "# input ticker code(stock code)\n",
    "ticker_symbol = \"9984\"\n",
    "ticker_symbol_dr = ticker_symbol + \".JP\"\n",
    "\n",
    "# Acquire data for the past 10 years\n",
    "end_date = dt.datetime.now()\n",
    "start_date = end_date - dt.timedelta(days=10*365)\n",
    "\n",
    "df = web.DataReader(ticker_symbol_dr, data_source='stooq', start=start_date, end=end_date)\n",
    "\n",
    "# Resample the data to get monthly averages\n",
    "df_monthly = df.resample('M').mean()\n",
    "\n",
    "# Insert ticker code in the 2nd row\n",
    "df_monthly.insert(0, \"code\", ticker_symbol, allow_duplicates=False)\n",
    "\n",
    "# Save to CSV\n",
    "path = '/Users/klynoaguilar/Desktop/01_school/'+ ticker_symbol + '.csv'\n",
    "df_monthly.to_csv(path)\n",
    "\n",
    "print(f\"Saved data to {path}\")"
   ]
  },
  {
   "cell_type": "code",
   "execution_count": 1,
   "metadata": {},
   "outputs": [
    {
     "name": "stdout",
     "output_type": "stream",
     "text": [
      "Saved data to /Users/klynoaguilar/Desktop/01_school/combined_data.csv\n"
     ]
    }
   ],
   "source": [
    "import datetime as dt\n",
    "import pandas_datareader.data as web\n",
    "import pandas as pd\n",
    "\n",
    "# List of ticker symbols you want to fetch\n",
    "TICKER_SYMBOLS = [\"7177\", \"9984\"]\n",
    "\n",
    "# Acquire data for the past 10 years\n",
    "end_date = dt.datetime.now()\n",
    "start_date = end_date - dt.timedelta(days=10*365)\n",
    "\n",
    "def get_monthly_avg_stock_price(ticker_symbol):\n",
    "    \"\"\"\n",
    "    Fetches the monthly average stock price for a given ticker symbol.\n",
    "    \"\"\"\n",
    "    ticker_symbol_dr = ticker_symbol + \".JP\"\n",
    "    df = web.DataReader(ticker_symbol_dr, data_source='stooq', start=start_date, end=end_date)\n",
    "    df_monthly = df.resample('M').mean()\n",
    "    return df_monthly['Close']\n",
    "\n",
    "def fetch_and_save_data(ticker_symbols):\n",
    "    \"\"\"\n",
    "    Fetches data for all provided ticker symbols and saves it to a CSV.\n",
    "    \"\"\"\n",
    "    data_frames = []\n",
    "\n",
    "    for ticker in ticker_symbols:\n",
    "        df = get_monthly_avg_stock_price(ticker)\n",
    "        data_frames.append(df)\n",
    "\n",
    "    # Combine all the data frames into one\n",
    "    combined_df = pd.concat(data_frames, axis=1)\n",
    "    combined_df.columns = ticker_symbols\n",
    "\n",
    "    # Save to CSV\n",
    "    path = '/Users/klynoaguilar/Desktop/01_school/combined_data.csv'\n",
    "    combined_df.to_csv(path, header=True)\n",
    "\n",
    "    print(f\"Saved data to {path}\")\n",
    "\n",
    "# Fetch data for the defined ticker symbols and save to CSV\n",
    "fetch_and_save_data(TICKER_SYMBOLS)\n"
   ]
  },
  {
   "cell_type": "code",
   "execution_count": null,
   "metadata": {},
   "outputs": [],
   "source": []
  }
 ],
 "metadata": {
  "kernelspec": {
   "display_name": "Fukuhara_Seminar",
   "language": "python",
   "name": "python3"
  },
  "language_info": {
   "codemirror_mode": {
    "name": "ipython",
    "version": 3
   },
   "file_extension": ".py",
   "mimetype": "text/x-python",
   "name": "python",
   "nbconvert_exporter": "python",
   "pygments_lexer": "ipython3",
   "version": "3.9.16"
  },
  "orig_nbformat": 4
 },
 "nbformat": 4,
 "nbformat_minor": 2
}
