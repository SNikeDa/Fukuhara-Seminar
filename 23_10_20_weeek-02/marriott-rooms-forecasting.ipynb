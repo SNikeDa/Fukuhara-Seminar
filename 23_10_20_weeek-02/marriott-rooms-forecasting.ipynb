{
 "cells": [
  {
   "cell_type": "markdown",
   "metadata": {
    "id": "B6rXaMMxRjvZ"
   },
   "source": [
    "# **Marriott Rooms Forecasting**\n",
    "#### This notebook is a suggested solution to the case [Marriott Rooms Forecasting](http://store.darden.virginia.edu/marriott-rooms-forecasting).\n",
    "\n",
    "### Workflow stages\n",
    "\n",
    "1. Case background\n",
    "2. Problem definition\n",
    "3. Data preparation\n",
    "4. Data analysis\n",
    "5. Validation of forecasting methods\n",
    "6. Results assessment \n",
    "7. Recommendation & action plan\n",
    "\n",
    "### 1. Case background\n",
    "\n",
    "#### Challenge\n",
    "On Tuesday, August 18, Snow - the reservation manager at the Hamilton Hotel - received a request to accommodate a tour company for as many as 60 rooms on Saturday. The hotel had 1877 rooms, 1839 of which were booked. The request put reservations above the hotel’s capacity, however weekend night were known to produce a lot of no shows. Snow wants to get a good forecast to decide on whether to accept the additional reservations for Saturday.\n",
    "\n",
    "#### Approach\n",
    "By comparing the accuracy and the prediction errors of different forecasting methods, one technique will be chosen to create the forecast for the demand. The following forecasting methods will be studied:\n",
    "* `Linear Regression`\n",
    "* `Isotonic Regression`\n",
    "* `Linear SVR`\n",
    "* `ARIMA`\n",
    "* `Holt Winters`\n",
    "\n",
    "#### Solution\n",
    "By comparing the accuracy of different forecasting method, we have determined that isotonic regression was able to best approximate the data. This has led to suggest that Ms. Snow should reject the request in its entirety - all 60 rooms.\n",
    "\n",
    "#### Case in Numbers\n",
    "On Tuesday 18th August 1987:\n",
    "* `Total Capacity` = **1887** rooms\n",
    "* `Rooms Booked` = **1839** rooms\n",
    "* `Rooms Requested` = **60** rooms\n",
    "* `Contribution Margin` = *USD* **90** per room\n",
    "* `Cost of Overbooking` = *USD* **200** per room\n",
    "\n",
    "### 2. Problem definition\n",
    "\n",
    "##### Using what method can Snow produce an accurate forecast to later make an informed decision regarding how many of the 60 if any rooms we wishes to book for the tour company?\n",
    "\n",
    "By using historical data from weeks 1 to 11 (included), different models will be used to forecast the rest of the given demand. Once that demand is calculated, we will compute the `Mean Square Error` (RMSE) to find which forecasting methods yields the smallest error between observed and expected values.\n",
    "\n",
    "#### Assumptions\n",
    "\n",
    "1. A cancellation means the revenue is lost\n",
    "2. No no shows from the group of 60\n",
    "3. Dow index calculations accurate\n",
    "4. No no shows from any additional bookings outside of the request\n",
    "\n",
    "### 3. Data preparation \n",
    "\n",
    "In this section we import relevant python libraries used in this Notebook. The case data *(found in `casedata.csv`)* is loaded into a pandas dataframe."
   ]
  },
  {
   "cell_type": "code",
   "execution_count": 5,
   "metadata": {
    "colab": {
     "base_uri": "https://localhost:8080/"
    },
    "id": "WbOESkdkJ771",
    "outputId": "c87c02f2-40d9-4bea-d360-97c10d29b2bc"
   },
   "outputs": [],
   "source": [
    "import numpy as np\n",
    "import pandas as pd\n",
    "import math \n",
    "\n",
    "from sklearn import linear_model\n",
    "from sklearn.linear_model import LinearRegression\n",
    "from sklearn.isotonic import IsotonicRegression\n",
    "from sklearn.svm import LinearSVR\n",
    "\n",
    "from sklearn.metrics import mean_absolute_error\n",
    "from sklearn.metrics import mean_squared_error\n",
    "\n",
    "import statsmodels.api as sm\n",
    "import statsmodels.tsa.arima_model as arima\n",
    "import statsmodels.tsa.holtwinters as holtwinters\n",
    "from statsmodels.tsa.seasonal import seasonal_decompose\n",
    "\n",
    "import seaborn as sns\n",
    "import matplotlib.pyplot as plt\n",
    "%matplotlib inline"
   ]
  },
  {
   "cell_type": "code",
   "execution_count": 9,
   "metadata": {
    "id": "vY1Xr0UW2bMk"
   },
   "outputs": [
    {
     "ename": "UnicodeDecodeError",
     "evalue": "'utf-8' codec can't decode byte 0xd0 in position 0: invalid continuation byte",
     "output_type": "error",
     "traceback": [
      "\u001b[0;31m---------------------------------------------------------------------------\u001b[0m",
      "\u001b[0;31mUnicodeDecodeError\u001b[0m                        Traceback (most recent call last)",
      "\u001b[1;32m/Users/klynoaguilar/Desktop/01_school/Zemi/23_10_20_weeek-02/marriott-rooms-forecasting.ipynb セル 3\u001b[0m line \u001b[0;36m3\n\u001b[1;32m      <a href='vscode-notebook-cell:/Users/klynoaguilar/Desktop/01_school/Zemi/23_10_20_weeek-02/marriott-rooms-forecasting.ipynb#W2sZmlsZQ%3D%3D?line=0'>1</a>\u001b[0m \u001b[39m#load the data from .csv\u001b[39;00m\n\u001b[0;32m----> <a href='vscode-notebook-cell:/Users/klynoaguilar/Desktop/01_school/Zemi/23_10_20_weeek-02/marriott-rooms-forecasting.ipynb#W2sZmlsZQ%3D%3D?line=2'>3</a>\u001b[0m data \u001b[39m=\u001b[39m pd\u001b[39m.\u001b[39;49mread_csv(\u001b[39m\"\u001b[39;49m\u001b[39m/Users/klynoaguilar/Desktop/01_school/Zemi/23_10_20_weeek-02/UV6154-XLS-ENG.xls\u001b[39;49m\u001b[39m\"\u001b[39;49m)\n\u001b[1;32m      <a href='vscode-notebook-cell:/Users/klynoaguilar/Desktop/01_school/Zemi/23_10_20_weeek-02/marriott-rooms-forecasting.ipynb#W2sZmlsZQ%3D%3D?line=5'>6</a>\u001b[0m df \u001b[39m=\u001b[39m pd\u001b[39m.\u001b[39mDataFrame(data)\n\u001b[1;32m      <a href='vscode-notebook-cell:/Users/klynoaguilar/Desktop/01_school/Zemi/23_10_20_weeek-02/marriott-rooms-forecasting.ipynb#W2sZmlsZQ%3D%3D?line=7'>8</a>\u001b[0m df[\u001b[39m'\u001b[39m\u001b[39mpickup_ratio\u001b[39m\u001b[39m'\u001b[39m] \u001b[39m=\u001b[39m pd\u001b[39m.\u001b[39mto_numeric(df[\u001b[39m'\u001b[39m\u001b[39mpickup_ratio\u001b[39m\u001b[39m'\u001b[39m],errors\u001b[39m=\u001b[39m\u001b[39m'\u001b[39m\u001b[39mcoerce\u001b[39m\u001b[39m'\u001b[39m)\n",
      "File \u001b[0;32m~/opt/anaconda3/envs/Fukuhara_Seminar/lib/python3.9/site-packages/pandas/util/_decorators.py:211\u001b[0m, in \u001b[0;36mdeprecate_kwarg.<locals>._deprecate_kwarg.<locals>.wrapper\u001b[0;34m(*args, **kwargs)\u001b[0m\n\u001b[1;32m    209\u001b[0m     \u001b[39melse\u001b[39;00m:\n\u001b[1;32m    210\u001b[0m         kwargs[new_arg_name] \u001b[39m=\u001b[39m new_arg_value\n\u001b[0;32m--> 211\u001b[0m \u001b[39mreturn\u001b[39;00m func(\u001b[39m*\u001b[39;49margs, \u001b[39m*\u001b[39;49m\u001b[39m*\u001b[39;49mkwargs)\n",
      "File \u001b[0;32m~/opt/anaconda3/envs/Fukuhara_Seminar/lib/python3.9/site-packages/pandas/util/_decorators.py:331\u001b[0m, in \u001b[0;36mdeprecate_nonkeyword_arguments.<locals>.decorate.<locals>.wrapper\u001b[0;34m(*args, **kwargs)\u001b[0m\n\u001b[1;32m    325\u001b[0m \u001b[39mif\u001b[39;00m \u001b[39mlen\u001b[39m(args) \u001b[39m>\u001b[39m num_allow_args:\n\u001b[1;32m    326\u001b[0m     warnings\u001b[39m.\u001b[39mwarn(\n\u001b[1;32m    327\u001b[0m         msg\u001b[39m.\u001b[39mformat(arguments\u001b[39m=\u001b[39m_format_argument_list(allow_args)),\n\u001b[1;32m    328\u001b[0m         \u001b[39mFutureWarning\u001b[39;00m,\n\u001b[1;32m    329\u001b[0m         stacklevel\u001b[39m=\u001b[39mfind_stack_level(),\n\u001b[1;32m    330\u001b[0m     )\n\u001b[0;32m--> 331\u001b[0m \u001b[39mreturn\u001b[39;00m func(\u001b[39m*\u001b[39;49margs, \u001b[39m*\u001b[39;49m\u001b[39m*\u001b[39;49mkwargs)\n",
      "File \u001b[0;32m~/opt/anaconda3/envs/Fukuhara_Seminar/lib/python3.9/site-packages/pandas/io/parsers/readers.py:950\u001b[0m, in \u001b[0;36mread_csv\u001b[0;34m(filepath_or_buffer, sep, delimiter, header, names, index_col, usecols, squeeze, prefix, mangle_dupe_cols, dtype, engine, converters, true_values, false_values, skipinitialspace, skiprows, skipfooter, nrows, na_values, keep_default_na, na_filter, verbose, skip_blank_lines, parse_dates, infer_datetime_format, keep_date_col, date_parser, dayfirst, cache_dates, iterator, chunksize, compression, thousands, decimal, lineterminator, quotechar, quoting, doublequote, escapechar, comment, encoding, encoding_errors, dialect, error_bad_lines, warn_bad_lines, on_bad_lines, delim_whitespace, low_memory, memory_map, float_precision, storage_options)\u001b[0m\n\u001b[1;32m    935\u001b[0m kwds_defaults \u001b[39m=\u001b[39m _refine_defaults_read(\n\u001b[1;32m    936\u001b[0m     dialect,\n\u001b[1;32m    937\u001b[0m     delimiter,\n\u001b[0;32m   (...)\u001b[0m\n\u001b[1;32m    946\u001b[0m     defaults\u001b[39m=\u001b[39m{\u001b[39m\"\u001b[39m\u001b[39mdelimiter\u001b[39m\u001b[39m\"\u001b[39m: \u001b[39m\"\u001b[39m\u001b[39m,\u001b[39m\u001b[39m\"\u001b[39m},\n\u001b[1;32m    947\u001b[0m )\n\u001b[1;32m    948\u001b[0m kwds\u001b[39m.\u001b[39mupdate(kwds_defaults)\n\u001b[0;32m--> 950\u001b[0m \u001b[39mreturn\u001b[39;00m _read(filepath_or_buffer, kwds)\n",
      "File \u001b[0;32m~/opt/anaconda3/envs/Fukuhara_Seminar/lib/python3.9/site-packages/pandas/io/parsers/readers.py:605\u001b[0m, in \u001b[0;36m_read\u001b[0;34m(filepath_or_buffer, kwds)\u001b[0m\n\u001b[1;32m    602\u001b[0m _validate_names(kwds\u001b[39m.\u001b[39mget(\u001b[39m\"\u001b[39m\u001b[39mnames\u001b[39m\u001b[39m\"\u001b[39m, \u001b[39mNone\u001b[39;00m))\n\u001b[1;32m    604\u001b[0m \u001b[39m# Create the parser.\u001b[39;00m\n\u001b[0;32m--> 605\u001b[0m parser \u001b[39m=\u001b[39m TextFileReader(filepath_or_buffer, \u001b[39m*\u001b[39;49m\u001b[39m*\u001b[39;49mkwds)\n\u001b[1;32m    607\u001b[0m \u001b[39mif\u001b[39;00m chunksize \u001b[39mor\u001b[39;00m iterator:\n\u001b[1;32m    608\u001b[0m     \u001b[39mreturn\u001b[39;00m parser\n",
      "File \u001b[0;32m~/opt/anaconda3/envs/Fukuhara_Seminar/lib/python3.9/site-packages/pandas/io/parsers/readers.py:1442\u001b[0m, in \u001b[0;36mTextFileReader.__init__\u001b[0;34m(self, f, engine, **kwds)\u001b[0m\n\u001b[1;32m   1439\u001b[0m     \u001b[39mself\u001b[39m\u001b[39m.\u001b[39moptions[\u001b[39m\"\u001b[39m\u001b[39mhas_index_names\u001b[39m\u001b[39m\"\u001b[39m] \u001b[39m=\u001b[39m kwds[\u001b[39m\"\u001b[39m\u001b[39mhas_index_names\u001b[39m\u001b[39m\"\u001b[39m]\n\u001b[1;32m   1441\u001b[0m \u001b[39mself\u001b[39m\u001b[39m.\u001b[39mhandles: IOHandles \u001b[39m|\u001b[39m \u001b[39mNone\u001b[39;00m \u001b[39m=\u001b[39m \u001b[39mNone\u001b[39;00m\n\u001b[0;32m-> 1442\u001b[0m \u001b[39mself\u001b[39m\u001b[39m.\u001b[39m_engine \u001b[39m=\u001b[39m \u001b[39mself\u001b[39;49m\u001b[39m.\u001b[39;49m_make_engine(f, \u001b[39mself\u001b[39;49m\u001b[39m.\u001b[39;49mengine)\n",
      "File \u001b[0;32m~/opt/anaconda3/envs/Fukuhara_Seminar/lib/python3.9/site-packages/pandas/io/parsers/readers.py:1753\u001b[0m, in \u001b[0;36mTextFileReader._make_engine\u001b[0;34m(self, f, engine)\u001b[0m\n\u001b[1;32m   1750\u001b[0m     \u001b[39mraise\u001b[39;00m \u001b[39mValueError\u001b[39;00m(msg)\n\u001b[1;32m   1752\u001b[0m \u001b[39mtry\u001b[39;00m:\n\u001b[0;32m-> 1753\u001b[0m     \u001b[39mreturn\u001b[39;00m mapping[engine](f, \u001b[39m*\u001b[39;49m\u001b[39m*\u001b[39;49m\u001b[39mself\u001b[39;49m\u001b[39m.\u001b[39;49moptions)\n\u001b[1;32m   1754\u001b[0m \u001b[39mexcept\u001b[39;00m \u001b[39mException\u001b[39;00m:\n\u001b[1;32m   1755\u001b[0m     \u001b[39mif\u001b[39;00m \u001b[39mself\u001b[39m\u001b[39m.\u001b[39mhandles \u001b[39mis\u001b[39;00m \u001b[39mnot\u001b[39;00m \u001b[39mNone\u001b[39;00m:\n",
      "File \u001b[0;32m~/opt/anaconda3/envs/Fukuhara_Seminar/lib/python3.9/site-packages/pandas/io/parsers/c_parser_wrapper.py:79\u001b[0m, in \u001b[0;36mCParserWrapper.__init__\u001b[0;34m(self, src, **kwds)\u001b[0m\n\u001b[1;32m     76\u001b[0m     kwds\u001b[39m.\u001b[39mpop(key, \u001b[39mNone\u001b[39;00m)\n\u001b[1;32m     78\u001b[0m kwds[\u001b[39m\"\u001b[39m\u001b[39mdtype\u001b[39m\u001b[39m\"\u001b[39m] \u001b[39m=\u001b[39m ensure_dtype_objs(kwds\u001b[39m.\u001b[39mget(\u001b[39m\"\u001b[39m\u001b[39mdtype\u001b[39m\u001b[39m\"\u001b[39m, \u001b[39mNone\u001b[39;00m))\n\u001b[0;32m---> 79\u001b[0m \u001b[39mself\u001b[39m\u001b[39m.\u001b[39m_reader \u001b[39m=\u001b[39m parsers\u001b[39m.\u001b[39;49mTextReader(src, \u001b[39m*\u001b[39;49m\u001b[39m*\u001b[39;49mkwds)\n\u001b[1;32m     81\u001b[0m \u001b[39mself\u001b[39m\u001b[39m.\u001b[39munnamed_cols \u001b[39m=\u001b[39m \u001b[39mself\u001b[39m\u001b[39m.\u001b[39m_reader\u001b[39m.\u001b[39munnamed_cols\n\u001b[1;32m     83\u001b[0m \u001b[39m# error: Cannot determine type of 'names'\u001b[39;00m\n",
      "File \u001b[0;32m~/opt/anaconda3/envs/Fukuhara_Seminar/lib/python3.9/site-packages/pandas/_libs/parsers.pyx:547\u001b[0m, in \u001b[0;36mpandas._libs.parsers.TextReader.__cinit__\u001b[0;34m()\u001b[0m\n",
      "File \u001b[0;32m~/opt/anaconda3/envs/Fukuhara_Seminar/lib/python3.9/site-packages/pandas/_libs/parsers.pyx:636\u001b[0m, in \u001b[0;36mpandas._libs.parsers.TextReader._get_header\u001b[0;34m()\u001b[0m\n",
      "File \u001b[0;32m~/opt/anaconda3/envs/Fukuhara_Seminar/lib/python3.9/site-packages/pandas/_libs/parsers.pyx:852\u001b[0m, in \u001b[0;36mpandas._libs.parsers.TextReader._tokenize_rows\u001b[0;34m()\u001b[0m\n",
      "File \u001b[0;32m~/opt/anaconda3/envs/Fukuhara_Seminar/lib/python3.9/site-packages/pandas/_libs/parsers.pyx:1965\u001b[0m, in \u001b[0;36mpandas._libs.parsers.raise_parser_error\u001b[0;34m()\u001b[0m\n",
      "\u001b[0;31mUnicodeDecodeError\u001b[0m: 'utf-8' codec can't decode byte 0xd0 in position 0: invalid continuation byte"
     ]
    }
   ],
   "source": [
    "\n",
    "\n",
    "#load the data from .csv\n",
    "\n",
    "data = pd.read_csv(\"/Users/klynoaguilar/Desktop/01_school/Zemi/23_10_20_weeek-02/UV6154-XLS-ENG.xls\", )\n",
    "\n",
    "\n",
    "df = pd.DataFrame(data)\n",
    "\n",
    "df['pickup_ratio'] = pd.to_numeric(df['pickup_ratio'],errors='coerce')\n",
    "df['demand'] = pd.to_numeric(df['demand'],errors='coerce')\n",
    "df['tues_bookings'] = df['tues_bookings'].astype(float)\n",
    "df['dow_index'] = pd.to_numeric(df['dow_index'],errors='coerce')\n",
    "\n",
    "df = df.dropna(axis=0) #drop null values \n",
    "\n",
    "df.tail(15)"
   ]
  },
  {
   "cell_type": "markdown",
   "metadata": {
    "id": "A3jt24ZHPAo5"
   },
   "source": [
    "### 4. Data analysis\n",
    "\n",
    "In this section we analyze the demand data to find patterns, trends, and correlations. \n",
    "\n",
    "#### Correlation analysis\n"
   ]
  },
  {
   "cell_type": "code",
   "execution_count": 10,
   "metadata": {
    "id": "0wpj2wP92j-z",
    "scrolled": true
   },
   "outputs": [
    {
     "ename": "NameError",
     "evalue": "name 'df' is not defined",
     "output_type": "error",
     "traceback": [
      "\u001b[0;31m---------------------------------------------------------------------------\u001b[0m",
      "\u001b[0;31mNameError\u001b[0m                                 Traceback (most recent call last)",
      "\u001b[1;32m/Users/klynoaguilar/Desktop/01_school/Zemi/23_10_20_weeek-02/marriott-rooms-forecasting.ipynb セル 5\u001b[0m line \u001b[0;36m2\n\u001b[1;32m      <a href='vscode-notebook-cell:/Users/klynoaguilar/Desktop/01_school/Zemi/23_10_20_weeek-02/marriott-rooms-forecasting.ipynb#W4sZmlsZQ%3D%3D?line=0'>1</a>\u001b[0m sns\u001b[39m.\u001b[39mset_style(\u001b[39m'\u001b[39m\u001b[39mwhitegrid\u001b[39m\u001b[39m'\u001b[39m)\n\u001b[0;32m----> <a href='vscode-notebook-cell:/Users/klynoaguilar/Desktop/01_school/Zemi/23_10_20_weeek-02/marriott-rooms-forecasting.ipynb#W4sZmlsZQ%3D%3D?line=1'>2</a>\u001b[0m sns\u001b[39m.\u001b[39mpairplot(df)\n",
      "\u001b[0;31mNameError\u001b[0m: name 'df' is not defined"
     ]
    }
   ],
   "source": [
    "sns.set_style('whitegrid')\n",
    "sns.pairplot(df)"
   ]
  },
  {
   "cell_type": "code",
   "execution_count": null,
   "metadata": {
    "colab": {
     "base_uri": "https://localhost:8080/",
     "height": 266
    },
    "id": "gYi0FjaC4dLg",
    "outputId": "4594c7f6-e3d8-4d1e-88be-0e03d8454809"
   },
   "outputs": [
    {
     "data": {
      "text/html": [
       "<div>\n",
       "<style scoped>\n",
       "    .dataframe tbody tr th:only-of-type {\n",
       "        vertical-align: middle;\n",
       "    }\n",
       "\n",
       "    .dataframe tbody tr th {\n",
       "        vertical-align: top;\n",
       "    }\n",
       "\n",
       "    .dataframe thead th {\n",
       "        text-align: right;\n",
       "    }\n",
       "</style>\n",
       "<table border=\"1\" class=\"dataframe\">\n",
       "  <thead>\n",
       "    <tr style=\"text-align: right;\">\n",
       "      <th></th>\n",
       "      <th>week</th>\n",
       "      <th>dow_indicator</th>\n",
       "      <th>days</th>\n",
       "      <th>demand</th>\n",
       "      <th>tues_bookings</th>\n",
       "      <th>pickup_ratio</th>\n",
       "      <th>dow_index</th>\n",
       "    </tr>\n",
       "  </thead>\n",
       "  <tbody>\n",
       "    <tr>\n",
       "      <th>week</th>\n",
       "      <td>1.000000</td>\n",
       "      <td>-0.060088</td>\n",
       "      <td>0.996821</td>\n",
       "      <td>0.036514</td>\n",
       "      <td>0.093429</td>\n",
       "      <td>-0.219157</td>\n",
       "      <td>-0.060054</td>\n",
       "    </tr>\n",
       "    <tr>\n",
       "      <th>dow_indicator</th>\n",
       "      <td>-0.060088</td>\n",
       "      <td>1.000000</td>\n",
       "      <td>0.019636</td>\n",
       "      <td>-0.076242</td>\n",
       "      <td>-0.284879</td>\n",
       "      <td>0.500540</td>\n",
       "      <td>0.915808</td>\n",
       "    </tr>\n",
       "    <tr>\n",
       "      <th>days</th>\n",
       "      <td>0.996821</td>\n",
       "      <td>0.019636</td>\n",
       "      <td>1.000000</td>\n",
       "      <td>0.030487</td>\n",
       "      <td>0.070840</td>\n",
       "      <td>-0.179558</td>\n",
       "      <td>0.012950</td>\n",
       "    </tr>\n",
       "    <tr>\n",
       "      <th>demand</th>\n",
       "      <td>0.036514</td>\n",
       "      <td>-0.076242</td>\n",
       "      <td>0.030487</td>\n",
       "      <td>1.000000</td>\n",
       "      <td>0.915155</td>\n",
       "      <td>-0.457365</td>\n",
       "      <td>-0.038377</td>\n",
       "    </tr>\n",
       "    <tr>\n",
       "      <th>tues_bookings</th>\n",
       "      <td>0.093429</td>\n",
       "      <td>-0.284879</td>\n",
       "      <td>0.070840</td>\n",
       "      <td>0.915155</td>\n",
       "      <td>1.000000</td>\n",
       "      <td>-0.756682</td>\n",
       "      <td>-0.275616</td>\n",
       "    </tr>\n",
       "    <tr>\n",
       "      <th>pickup_ratio</th>\n",
       "      <td>-0.219157</td>\n",
       "      <td>0.500540</td>\n",
       "      <td>-0.179558</td>\n",
       "      <td>-0.457365</td>\n",
       "      <td>-0.756682</td>\n",
       "      <td>1.000000</td>\n",
       "      <td>0.552121</td>\n",
       "    </tr>\n",
       "    <tr>\n",
       "      <th>dow_index</th>\n",
       "      <td>-0.060054</td>\n",
       "      <td>0.915808</td>\n",
       "      <td>0.012950</td>\n",
       "      <td>-0.038377</td>\n",
       "      <td>-0.275616</td>\n",
       "      <td>0.552121</td>\n",
       "      <td>1.000000</td>\n",
       "    </tr>\n",
       "  </tbody>\n",
       "</table>\n",
       "</div>"
      ],
      "text/plain": [
       "                   week  dow_indicator      days    demand  tues_bookings  \\\n",
       "week           1.000000      -0.060088  0.996821  0.036514       0.093429   \n",
       "dow_indicator -0.060088       1.000000  0.019636 -0.076242      -0.284879   \n",
       "days           0.996821       0.019636  1.000000  0.030487       0.070840   \n",
       "demand         0.036514      -0.076242  0.030487  1.000000       0.915155   \n",
       "tues_bookings  0.093429      -0.284879  0.070840  0.915155       1.000000   \n",
       "pickup_ratio  -0.219157       0.500540 -0.179558 -0.457365      -0.756682   \n",
       "dow_index     -0.060054       0.915808  0.012950 -0.038377      -0.275616   \n",
       "\n",
       "               pickup_ratio  dow_index  \n",
       "week              -0.219157  -0.060054  \n",
       "dow_indicator      0.500540   0.915808  \n",
       "days              -0.179558   0.012950  \n",
       "demand            -0.457365  -0.038377  \n",
       "tues_bookings     -0.756682  -0.275616  \n",
       "pickup_ratio       1.000000   0.552121  \n",
       "dow_index          0.552121   1.000000  "
      ]
     },
     "execution_count": 5,
     "metadata": {},
     "output_type": "execute_result"
    }
   ],
   "source": [
    "df.corr()"
   ]
  },
  {
   "cell_type": "markdown",
   "metadata": {},
   "source": [
    "Since `demand` and `tues_bookings` have the highest correlation of `0.92` we will plot them together to visualize the trend."
   ]
  },
  {
   "cell_type": "code",
   "execution_count": null,
   "metadata": {
    "colab": {
     "base_uri": "https://localhost:8080/",
     "height": 296
    },
    "id": "cS-AknbIMM1t",
    "outputId": "722be91f-9645-406b-99f5-ea920f2cfbae"
   },
   "outputs": [
    {
     "data": {
      "text/plain": [
       "<matplotlib.collections.PathCollection at 0x7f90a57284c0>"
      ]
     },
     "execution_count": 47,
     "metadata": {},
     "output_type": "execute_result"
    },
    {
     "data": {
      "image/png": "[encoded data removed]",
      "text/plain": [
       "<Figure size 432x288 with 1 Axes>"
      ]
     },
     "metadata": {},
     "output_type": "display_data"
    }
   ],
   "source": [
    "X = df[['tues_bookings']]\n",
    "y = df.demand\n",
    "\n",
    "plt.ylabel('Demand')\n",
    "plt.xlabel('Tuesday Bookings')\n",
    "plt.scatter (X, y)"
   ]
  },
  {
   "cell_type": "markdown",
   "metadata": {
    "id": "cq7i4qsBQXcl"
   },
   "source": [
    "#### Trend & Seasonality Analysis\n",
    "\n",
    "In this section we analyze the trend and seasonality by converting the demand data into a time series."
   ]
  },
  {
   "cell_type": "code",
   "execution_count": null,
   "metadata": {
    "colab": {
     "base_uri": "https://localhost:8080/",
     "height": 235
    },
    "id": "n0gMeIWbPVWN",
    "outputId": "ec4fefcc-a2fe-40a5-f556-43a2aa14cba8"
   },
   "outputs": [
    {
     "data": {
      "text/html": [
       "<div>\n",
       "<style scoped>\n",
       "    .dataframe tbody tr th:only-of-type {\n",
       "        vertical-align: middle;\n",
       "    }\n",
       "\n",
       "    .dataframe tbody tr th {\n",
       "        vertical-align: top;\n",
       "    }\n",
       "\n",
       "    .dataframe thead th {\n",
       "        text-align: right;\n",
       "    }\n",
       "</style>\n",
       "<table border=\"1\" class=\"dataframe\">\n",
       "  <thead>\n",
       "    <tr style=\"text-align: right;\">\n",
       "      <th></th>\n",
       "      <th>demand</th>\n",
       "    </tr>\n",
       "    <tr>\n",
       "      <th>days</th>\n",
       "      <th></th>\n",
       "    </tr>\n",
       "  </thead>\n",
       "  <tbody>\n",
       "    <tr>\n",
       "      <th>1</th>\n",
       "      <td>1470.0</td>\n",
       "    </tr>\n",
       "    <tr>\n",
       "      <th>2</th>\n",
       "      <td>870.0</td>\n",
       "    </tr>\n",
       "    <tr>\n",
       "      <th>3</th>\n",
       "      <td>986.0</td>\n",
       "    </tr>\n",
       "    <tr>\n",
       "      <th>4</th>\n",
       "      <td>1247.0</td>\n",
       "    </tr>\n",
       "    <tr>\n",
       "      <th>5</th>\n",
       "      <td>1109.0</td>\n",
       "    </tr>\n",
       "  </tbody>\n",
       "</table>\n",
       "</div>"
      ],
      "text/plain": [
       "      demand\n",
       "days        \n",
       "1     1470.0\n",
       "2      870.0\n",
       "3      986.0\n",
       "4     1247.0\n",
       "5     1109.0"
      ]
     },
     "execution_count": 48,
     "metadata": {},
     "output_type": "execute_result"
    }
   ],
   "source": [
    "df1 = pd.concat([df['days'], df['demand']], axis=1, keys=['days', 'demand'])\n",
    "df1.set_index('days', inplace=True)\n",
    "df1.head(5)"
   ]
  },
  {
   "cell_type": "code",
   "execution_count": null,
   "metadata": {
    "colab": {
     "base_uri": "https://localhost:8080/",
     "height": 80
    },
    "id": "faGSK9U-PkOU",
    "outputId": "d9fc164a-c9c9-4184-dbc3-bf4260afc81d"
   },
   "outputs": [
    {
     "data": {
      "text/html": [
       "<div>\n",
       "<style scoped>\n",
       "    .dataframe tbody tr th:only-of-type {\n",
       "        vertical-align: middle;\n",
       "    }\n",
       "\n",
       "    .dataframe tbody tr th {\n",
       "        vertical-align: top;\n",
       "    }\n",
       "\n",
       "    .dataframe thead th {\n",
       "        text-align: right;\n",
       "    }\n",
       "</style>\n",
       "<table border=\"1\" class=\"dataframe\">\n",
       "  <thead>\n",
       "    <tr style=\"text-align: right;\">\n",
       "      <th></th>\n",
       "      <th>count</th>\n",
       "      <th>mean</th>\n",
       "      <th>std</th>\n",
       "      <th>min</th>\n",
       "      <th>25%</th>\n",
       "      <th>50%</th>\n",
       "      <th>75%</th>\n",
       "      <th>max</th>\n",
       "    </tr>\n",
       "  </thead>\n",
       "  <tbody>\n",
       "    <tr>\n",
       "      <th>demand</th>\n",
       "      <td>87.0</td>\n",
       "      <td>1503.724138</td>\n",
       "      <td>312.914755</td>\n",
       "      <td>722.0</td>\n",
       "      <td>1262.0</td>\n",
       "      <td>1600.0</td>\n",
       "      <td>1773.5</td>\n",
       "      <td>1924.0</td>\n",
       "    </tr>\n",
       "  </tbody>\n",
       "</table>\n",
       "</div>"
      ],
      "text/plain": [
       "        count         mean         std    min     25%     50%     75%     max\n",
       "demand   87.0  1503.724138  312.914755  722.0  1262.0  1600.0  1773.5  1924.0"
      ]
     },
     "execution_count": 49,
     "metadata": {},
     "output_type": "execute_result"
    }
   ],
   "source": [
    "df1.describe().transpose()"
   ]
  },
  {
   "cell_type": "code",
   "execution_count": null,
   "metadata": {
    "colab": {
     "base_uri": "https://localhost:8080/",
     "height": 296
    },
    "id": "wEiwsMjNPltF",
    "outputId": "4f7d551c-8008-4932-9262-2598a78c0ee7"
   },
   "outputs": [
    {
     "data": {
      "text/plain": [
       "<AxesSubplot:xlabel='days'>"
      ]
     },
     "execution_count": 50,
     "metadata": {},
     "output_type": "execute_result"
    },
    {
     "data": {
      "image/png": "[encoded data removed]",
      "text/plain": [
       "<Figure size 432x288 with 1 Axes>"
      ]
     },
     "metadata": {},
     "output_type": "display_data"
    }
   ],
   "source": [
    "df1.plot()"
   ]
  },
  {
   "cell_type": "code",
   "execution_count": null,
   "metadata": {
    "colab": {
     "base_uri": "https://localhost:8080/",
     "height": 34
    },
    "id": "C3eIAJMYPl2k",
    "outputId": "2d817880-94ef-4899-d0d3-acce591fdb8a"
   },
   "outputs": [
    {
     "data": {
      "text/plain": [
       "pandas.core.series.Series"
      ]
     },
     "execution_count": 51,
     "metadata": {},
     "output_type": "execute_result"
    }
   ],
   "source": [
    "time_series = df1['demand']\n",
    "type(time_series)"
   ]
  },
  {
   "cell_type": "code",
   "execution_count": null,
   "metadata": {
    "colab": {
     "base_uri": "https://localhost:8080/",
     "height": 298
    },
    "id": "oulph5oxPpdO",
    "outputId": "f237e128-4181-4b09-9b72-306c7092fc77"
   },
   "outputs": [
    {
     "data": {
      "text/plain": [
       "<AxesSubplot:xlabel='days'>"
      ]
     },
     "execution_count": 52,
     "metadata": {},
     "output_type": "execute_result"
    },
    {
     "data": {
      "image/png": "[encoded data removed]",
      "text/plain": [
       "<Figure size 432x288 with 1 Axes>"
      ]
     },
     "metadata": {},
     "output_type": "display_data"
    }
   ],
   "source": [
    "time_series.rolling(7).mean().plot(label = '7 days rolling mean')\n",
    "time_series.rolling(7).std().plot(label = '7 days rolling std')\n",
    "time_series.plot()"
   ]
  },
  {
   "cell_type": "code",
   "execution_count": null,
   "metadata": {
    "colab": {
     "base_uri": "https://localhost:8080/",
     "height": 532
    },
    "id": "TXfkF-mKPl-Q",
    "outputId": "508fee0f-6a62-400c-a723-0628cf7fa0e4"
   },
   "outputs": [
    {
     "name": "stderr",
     "output_type": "stream",
     "text": [
      "<ipython-input-97-1486e6903d1e>:1: FutureWarning: the 'freq'' keyword is deprecated, use 'period' instead\n",
      "  decomp = seasonal_decompose(time_series, freq=7) # frequency set to 7 as there are 7 days in a week\n"
     ]
    },
    {
     "data": {
      "image/png": "[encoded data removed]",
      "text/plain": [
       "<Figure size 1080x576 with 4 Axes>"
      ]
     },
     "metadata": {},
     "output_type": "display_data"
    }
   ],
   "source": [
    "decomp = seasonal_decompose(time_series, freq=7) # frequency set to 7 as there are 7 days in a week\n",
    "fig = decomp.plot()\n",
    "fig.set_size_inches(15,8)"
   ]
  },
  {
   "cell_type": "markdown",
   "metadata": {
    "id": "JvnAx32RxM6-"
   },
   "source": [
    "### 5. Validation of forecasting methods\n",
    "\n",
    "In this section, we evaluate the performance of 5 forecasting methods by fitting them on the demand data of weeks 1 to 11. We then predict the demand of weeks 12 and half of week 13 to calculate the `Mean Square Error` (MSE) with the real demand of said periods. We will choose the forecasting method with the minimum MSE.\n"
   ]
  },
  {
   "cell_type": "code",
   "execution_count": null,
   "metadata": {
    "colab": {
     "base_uri": "https://localhost:8080/",
     "height": 204
    },
    "id": "XiPA3oY8tBI1",
    "outputId": "24064c83-fb17-48ec-cbba-724a803b7279"
   },
   "outputs": [
    {
     "data": {
      "text/html": [
       "<div>\n",
       "<style scoped>\n",
       "    .dataframe tbody tr th:only-of-type {\n",
       "        vertical-align: middle;\n",
       "    }\n",
       "\n",
       "    .dataframe tbody tr th {\n",
       "        vertical-align: top;\n",
       "    }\n",
       "\n",
       "    .dataframe thead th {\n",
       "        text-align: right;\n",
       "    }\n",
       "</style>\n",
       "<table border=\"1\" class=\"dataframe\">\n",
       "  <thead>\n",
       "    <tr style=\"text-align: right;\">\n",
       "      <th></th>\n",
       "      <th>week</th>\n",
       "      <th>dow_indicator</th>\n",
       "      <th>days</th>\n",
       "      <th>demand</th>\n",
       "      <th>tues_bookings</th>\n",
       "      <th>pickup_ratio</th>\n",
       "      <th>dow_index</th>\n",
       "    </tr>\n",
       "  </thead>\n",
       "  <tbody>\n",
       "    <tr>\n",
       "      <th>72</th>\n",
       "      <td>11</td>\n",
       "      <td>3</td>\n",
       "      <td>73</td>\n",
       "      <td>1753.0</td>\n",
       "      <td>1807.0</td>\n",
       "      <td>0.970</td>\n",
       "      <td>0.973</td>\n",
       "    </tr>\n",
       "    <tr>\n",
       "      <th>73</th>\n",
       "      <td>11</td>\n",
       "      <td>4</td>\n",
       "      <td>74</td>\n",
       "      <td>1805.0</td>\n",
       "      <td>1681.0</td>\n",
       "      <td>1.074</td>\n",
       "      <td>1.013</td>\n",
       "    </tr>\n",
       "    <tr>\n",
       "      <th>74</th>\n",
       "      <td>11</td>\n",
       "      <td>5</td>\n",
       "      <td>75</td>\n",
       "      <td>1601.0</td>\n",
       "      <td>1413.0</td>\n",
       "      <td>1.133</td>\n",
       "      <td>1.068</td>\n",
       "    </tr>\n",
       "    <tr>\n",
       "      <th>75</th>\n",
       "      <td>11</td>\n",
       "      <td>6</td>\n",
       "      <td>76</td>\n",
       "      <td>722.0</td>\n",
       "      <td>599.0</td>\n",
       "      <td>1.205</td>\n",
       "      <td>1.123</td>\n",
       "    </tr>\n",
       "    <tr>\n",
       "      <th>76</th>\n",
       "      <td>11</td>\n",
       "      <td>7</td>\n",
       "      <td>77</td>\n",
       "      <td>889.0</td>\n",
       "      <td>831.0</td>\n",
       "      <td>1.070</td>\n",
       "      <td>1.049</td>\n",
       "    </tr>\n",
       "  </tbody>\n",
       "</table>\n",
       "</div>"
      ],
      "text/plain": [
       "    week  dow_indicator  days  demand  tues_bookings  pickup_ratio  dow_index\n",
       "72    11              3    73  1753.0         1807.0         0.970      0.973\n",
       "73    11              4    74  1805.0         1681.0         1.074      1.013\n",
       "74    11              5    75  1601.0         1413.0         1.133      1.068\n",
       "75    11              6    76   722.0          599.0         1.205      1.123\n",
       "76    11              7    77   889.0          831.0         1.070      1.049"
      ]
     },
     "execution_count": 54,
     "metadata": {},
     "output_type": "execute_result"
    }
   ],
   "source": [
    "# Creating the training set and dropping the validation data\n",
    "\n",
    "df_val = df.drop(df.index[77:])\n",
    "df_val.tail(5)"
   ]
  },
  {
   "cell_type": "markdown",
   "metadata": {
    "id": "dGPqxhkD5lzM"
   },
   "source": [
    "### Linear Regression\n",
    "\n",
    "Linear regression fits a linear model with coefficients w = (w1, …, wp) to minimize the residual sum of squares between the observed targets in the dataset, and the targets predicted by the linear approximation.\n"
   ]
  },
  {
   "cell_type": "code",
   "execution_count": null,
   "metadata": {
    "colab": {
     "base_uri": "https://localhost:8080/",
     "height": 68
    },
    "id": "2IW4DPd5uOt3",
    "outputId": "599106f1-19f1-4edd-d583-cb86d4778347"
   },
   "outputs": [
    {
     "name": "stdout",
     "output_type": "stream",
     "text": [
      "The R^2 score for the linear regression is 0.841096\n",
      "The regression coefficient is 0.671358\n",
      "The regression intercept is 568.036709\n"
     ]
    }
   ],
   "source": [
    "X_val = df_val[['tues_bookings']]\n",
    "y_val = df_val.demand\n",
    "\n",
    "lin_reg_val = linear_model.LinearRegression()\n",
    "lin_reg_val.fit(X_val, y_val)\n",
    "\n",
    "print(\"The R^2 score for the linear regression is %f\" % lin_reg_val.score(X_val, y_val)) \n",
    "# R^2 score for linear regression is 0.841\n",
    "\n",
    "print (\"The regression coefficient is %f\" % lin_reg_val.coef_) \n",
    "print (\"The regression intercept is %f\" % lin_reg_val.intercept_)\n",
    "# y = 0.67*x + 568.04"
   ]
  },
  {
   "cell_type": "code",
   "execution_count": null,
   "metadata": {
    "colab": {
     "base_uri": "https://localhost:8080/",
     "height": 68
    },
    "id": "rT0BhorU1Tzd",
    "outputId": "ddf9e927-bfd2-4fbb-d2c7-218247e86839"
   },
   "outputs": [
    {
     "data": {
      "text/plain": [
       "array([1321.97182457, 1207.16959412, 1742.91333623, 1761.04000419,\n",
       "       1741.57062008, 1193.74243266, 1218.58268135, 1616.69801854,\n",
       "       1242.0802139 , 1510.62344303])"
      ]
     },
     "execution_count": 56,
     "metadata": {},
     "output_type": "execute_result"
    }
   ],
   "source": [
    "pred_lin_reg_val = lin_reg_val.predict([[1123], [952], [1750], [1777],[1748],[932],[969],[1562],[1004],[1404]])\n",
    "pred_lin_reg_val"
   ]
  },
  {
   "cell_type": "code",
   "execution_count": null,
   "metadata": {
    "colab": {
     "base_uri": "https://localhost:8080/",
     "height": 34
    },
    "id": "6Pq3BCuT4PTW",
    "outputId": "36779aee-3374-412f-9c7e-70be5233088f"
   },
   "outputs": [
    {
     "name": "stdout",
     "output_type": "stream",
     "text": [
      "MAE for linear regression is 111.417092\n"
     ]
    }
   ],
   "source": [
    "expected = [1058,887, 1676,1775,1759,1093,1217,1542,988,1510]\n",
    "\n",
    "mae_lin_reg_val = mean_absolute_error(expected, pred_lin_reg_val)\n",
    "print('MAE for linear regression is %f' % mae_lin_reg_val)"
   ]
  },
  {
   "cell_type": "code",
   "execution_count": null,
   "metadata": {
    "colab": {
     "base_uri": "https://localhost:8080/",
     "height": 51
    },
    "id": "RiJ9PHccKB4T",
    "outputId": "fd54ce46-1da1-4cc9-80e8-9daeb72e147e"
   },
   "outputs": [
    {
     "name": "stdout",
     "output_type": "stream",
     "text": [
      "MSE for linear regression is 25745.423287\n",
      "RMSE for linear regression is 160.453804\n"
     ]
    }
   ],
   "source": [
    "mse_lin_reg_val = mean_squared_error(expected, pred_lin_reg_val)\n",
    "print('MSE for linear regression is %f' % mse_lin_reg_val)\n",
    "rmse_lin_reg_val = math.sqrt(mse_lin_reg_val)\n",
    "print('RMSE for linear regression is %f' % rmse_lin_reg_val)"
   ]
  },
  {
   "cell_type": "markdown",
   "metadata": {
    "id": "9uSBlVsn0k89"
   },
   "source": [
    "### Isotonic Regression\n",
    "\n",
    "Isotonic regression or monotonic regression is the technique of fitting a free-form line to a sequence of observations."
   ]
  },
  {
   "cell_type": "code",
   "execution_count": null,
   "metadata": {
    "colab": {
     "base_uri": "https://localhost:8080/",
     "height": 34
    },
    "id": "9W2Sus2nxH4f",
    "outputId": "a2cfb6de-e4fc-42b9-f4f4-1c4eca8aedbf"
   },
   "outputs": [
    {
     "name": "stdout",
     "output_type": "stream",
     "text": [
      "The R^2 score for the isotonic regression is 0.932813\n"
     ]
    }
   ],
   "source": [
    "# converting X_val data to 1D array for Isotonic regression\n",
    "X1_val = np.array(df_val['tues_bookings'])\n",
    "\n",
    "iso_reg_val = IsotonicRegression()\n",
    "iso_reg_val.fit(X1_val,y_val)\n",
    "\n",
    "print (\"The R^2 score for the isotonic regression is %f\" % iso_reg_val.score(X1_val, y_val))\n",
    "# R^2 score for isotonic regression is 0.933"
   ]
  },
  {
   "cell_type": "code",
   "execution_count": null,
   "metadata": {
    "colab": {
     "base_uri": "https://localhost:8080/",
     "height": 68
    },
    "id": "WdkulUAexIAm",
    "outputId": "61667569-dff7-49a6-db00-3d4ea2338abd"
   },
   "outputs": [
    {
     "data": {
      "text/plain": [
       "array([1321.0625    , 1245.875     , 1779.5       , 1779.5       ,\n",
       "       1779.5       , 1245.875     , 1245.875     , 1700.875     ,\n",
       "       1251.62980769, 1466.75      ])"
      ]
     },
     "execution_count": 60,
     "metadata": {},
     "output_type": "execute_result"
    }
   ],
   "source": [
    "pred_iso_reg_val = iso_reg_val.predict([1123,952,1750,1777,1748,932,969,1562,1004,1404])\n",
    "pred_iso_reg_val"
   ]
  },
  {
   "cell_type": "code",
   "execution_count": null,
   "metadata": {
    "colab": {
     "base_uri": "https://localhost:8080/",
     "height": 34
    },
    "id": "QEsHxxen4VMB",
    "outputId": "ffb941aa-2146-40ef-8870-57b902517e55"
   },
   "outputs": [
    {
     "name": "stdout",
     "output_type": "stream",
     "text": [
      "MAE for isotonic regression is 139.794231\n"
     ]
    }
   ],
   "source": [
    "expected = [1058,887, 1676,1775,1759,1093,1217,1542,988,1510]\n",
    "\n",
    "mae_iso_reg_val = mean_absolute_error(expected, pred_iso_reg_val)\n",
    "print('MAE for isotonic regression is %f' % mae_iso_reg_val)"
   ]
  },
  {
   "cell_type": "code",
   "execution_count": null,
   "metadata": {
    "colab": {
     "base_uri": "https://localhost:8080/",
     "height": 51
    },
    "id": "i_3xStpZpwPN",
    "outputId": "2db0cbd2-ac48-4642-a63b-92b1cd995c30"
   },
   "outputs": [
    {
     "name": "stdout",
     "output_type": "stream",
     "text": [
      "MSE for isotonic regression is 32996.292941\n",
      "RMSE for isotonic regression is 181.648818\n"
     ]
    }
   ],
   "source": [
    "mse_iso_reg_val = mean_squared_error(expected, pred_iso_reg_val)\n",
    "print('MSE for isotonic regression is %f' % mse_iso_reg_val)\n",
    "rmse_iso_reg_val = math.sqrt(mse_iso_reg_val)\n",
    "print('RMSE for isotonic regression is %f' % rmse_iso_reg_val)"
   ]
  },
  {
   "cell_type": "markdown",
   "metadata": {
    "id": "jlAhaYCz28gw"
   },
   "source": [
    "### Linear SVR\n",
    "\n",
    "Support Vector Regression (SVR) is quite different than other Regression models. It uses the Support Vector Machine (SVM, a classification algorithm) algorithm to predict a continuous variable. While other linear regression models try to minimize the error between the predicted and the actual value, Support Vector Regression tries to fit the best line within a predefined or threshold error value."
   ]
  },
  {
   "cell_type": "code",
   "execution_count": null,
   "metadata": {
    "colab": {
     "base_uri": "https://localhost:8080/",
     "height": 68
    },
    "id": "XjcdK3uDxIPi",
    "outputId": "dd5235e9-37bd-4f37-8446-c6827c420378"
   },
   "outputs": [
    {
     "name": "stdout",
     "output_type": "stream",
     "text": [
      "The R^2 score for Linear SVR is 0.566172\n",
      "The SVR regression coefficient is 1.054674\n",
      "The SVR regression intercept is 14.194957\n"
     ]
    }
   ],
   "source": [
    "svr_reg_val = LinearSVR(random_state=0, tol=1e-5, max_iter=1e6)\n",
    "svr_reg_val.fit(X_val, y_val)\n",
    "\n",
    "print (\"The R^2 score for Linear SVR is %f\" % svr_reg_val.score(X_val, y_val))\n",
    "# R^2 score for linear svr is 0.566\n",
    "\n",
    "print (\"The SVR regression coefficient is %f\" % svr_reg_val.coef_)\n",
    "print (\"The SVR regression intercept is %f\" % svr_reg_val.intercept_)\n",
    "# y = 1.054*x + 14.19"
   ]
  },
  {
   "cell_type": "code",
   "execution_count": null,
   "metadata": {
    "colab": {
     "base_uri": "https://localhost:8080/",
     "height": 68
    },
    "id": "lKLZrzM63JhE",
    "outputId": "87545ba7-1340-49a6-c9fb-56b4d334db7a"
   },
   "outputs": [
    {
     "data": {
      "text/plain": [
       "array([1198.59407062, 1018.24478433, 1859.87478702, 1888.35099012,\n",
       "       1857.76543864,  997.15130055, 1036.17424554, 1661.59603952,\n",
       "       1073.08784215, 1494.95751768])"
      ]
     },
     "execution_count": 64,
     "metadata": {},
     "output_type": "execute_result"
    }
   ],
   "source": [
    "pred_svr_val = svr_reg_val.predict([[1123], [952], [1750], [1777],[1748],[932],[969],[1562],[1004],[1404]])\n",
    "pred_svr_val"
   ]
  },
  {
   "cell_type": "code",
   "execution_count": null,
   "metadata": {
    "colab": {
     "base_uri": "https://localhost:8080/",
     "height": 34
    },
    "id": "FTbFQYXL_qky",
    "outputId": "e7386529-be2a-44d9-db8c-3c9fc32efd54"
   },
   "outputs": [
    {
     "name": "stdout",
     "output_type": "stream",
     "text": [
      "MAE for linear SVR is 116.423089\n"
     ]
    }
   ],
   "source": [
    "expected = [1058,887, 1676,1775,1759,1093,1217,1542,988,1510]\n",
    "\n",
    "mae_svr_val = mean_absolute_error (expected, pred_svr_val)\n",
    "print('MAE for linear SVR is %f' % mae_svr_val)"
   ]
  },
  {
   "cell_type": "code",
   "execution_count": null,
   "metadata": {
    "colab": {
     "base_uri": "https://localhost:8080/",
     "height": 51
    },
    "id": "1Xq7wi05q0an",
    "outputId": "689322dd-b6a0-4bba-a207-592a86bba9fc"
   },
   "outputs": [
    {
     "name": "stdout",
     "output_type": "stream",
     "text": [
      "MSE for SVR is 15705.923873\n",
      "RMSE for SVR is 125.323277\n"
     ]
    }
   ],
   "source": [
    "mse_svr_val = mean_squared_error(expected, pred_svr_val)\n",
    "print('MSE for SVR is %f' % mse_svr_val)\n",
    "rmse_svr_val = math.sqrt(mse_svr_val)\n",
    "print('RMSE for SVR is %f' % rmse_svr_val)"
   ]
  },
  {
   "cell_type": "markdown",
   "metadata": {
    "id": "5k5tlHtB6qgE"
   },
   "source": [
    "### ARIMA"
   ]
  },
  {
   "cell_type": "code",
   "execution_count": null,
   "metadata": {
    "colab": {
     "base_uri": "https://localhost:8080/",
     "height": 235
    },
    "id": "aYX9KOyq7WVG",
    "outputId": "41ddc530-7726-4fe2-9774-4225113271a7"
   },
   "outputs": [
    {
     "data": {
      "text/html": [
       "<div>\n",
       "<style scoped>\n",
       "    .dataframe tbody tr th:only-of-type {\n",
       "        vertical-align: middle;\n",
       "    }\n",
       "\n",
       "    .dataframe tbody tr th {\n",
       "        vertical-align: top;\n",
       "    }\n",
       "\n",
       "    .dataframe thead th {\n",
       "        text-align: right;\n",
       "    }\n",
       "</style>\n",
       "<table border=\"1\" class=\"dataframe\">\n",
       "  <thead>\n",
       "    <tr style=\"text-align: right;\">\n",
       "      <th></th>\n",
       "      <th>demand</th>\n",
       "    </tr>\n",
       "    <tr>\n",
       "      <th>days</th>\n",
       "      <th></th>\n",
       "    </tr>\n",
       "  </thead>\n",
       "  <tbody>\n",
       "    <tr>\n",
       "      <th>1</th>\n",
       "      <td>1470.0</td>\n",
       "    </tr>\n",
       "    <tr>\n",
       "      <th>2</th>\n",
       "      <td>870.0</td>\n",
       "    </tr>\n",
       "    <tr>\n",
       "      <th>3</th>\n",
       "      <td>986.0</td>\n",
       "    </tr>\n",
       "    <tr>\n",
       "      <th>4</th>\n",
       "      <td>1247.0</td>\n",
       "    </tr>\n",
       "    <tr>\n",
       "      <th>5</th>\n",
       "      <td>1109.0</td>\n",
       "    </tr>\n",
       "  </tbody>\n",
       "</table>\n",
       "</div>"
      ],
      "text/plain": [
       "      demand\n",
       "days        \n",
       "1     1470.0\n",
       "2      870.0\n",
       "3      986.0\n",
       "4     1247.0\n",
       "5     1109.0"
      ]
     },
     "execution_count": 32,
     "metadata": {},
     "output_type": "execute_result"
    }
   ],
   "source": [
    "df1_val = pd.concat([df_val['days'], df_val['demand']], axis=1, keys=['days', 'demand'])\n",
    "df1_val.set_index('days', inplace=True)\n",
    "df1_val.head(5)"
   ]
  },
  {
   "cell_type": "code",
   "execution_count": null,
   "metadata": {
    "colab": {
     "base_uri": "https://localhost:8080/",
     "height": 85
    },
    "id": "0Sp8PEO97Wjr",
    "outputId": "b4777cec-7f63-40f9-9ed9-1704b2902097",
    "scrolled": true
   },
   "outputs": [
    {
     "name": "stderr",
     "output_type": "stream",
     "text": [
      "/Users/anthonyriachy/opt/anaconda3/lib/python3.8/site-packages/statsmodels/tsa/arima_model.py:472: FutureWarning: \n",
      "statsmodels.tsa.arima_model.ARMA and statsmodels.tsa.arima_model.ARIMA have\n",
      "been deprecated in favor of statsmodels.tsa.arima.model.ARIMA (note the .\n",
      "between arima and model) and\n",
      "statsmodels.tsa.SARIMAX. These will be removed after the 0.12 release.\n",
      "\n",
      "statsmodels.tsa.arima.model.ARIMA makes use of the statespace framework and\n",
      "is both well tested and maintained.\n",
      "\n",
      "To silence this warning and continue using ARMA and ARIMA until they are\n",
      "removed, use:\n",
      "\n",
      "import warnings\n",
      "warnings.filterwarnings('ignore', 'statsmodels.tsa.arima_model.ARMA',\n",
      "                        FutureWarning)\n",
      "warnings.filterwarnings('ignore', 'statsmodels.tsa.arima_model.ARIMA',\n",
      "                        FutureWarning)\n",
      "\n",
      "  warnings.warn(ARIMA_DEPRECATION_WARN, FutureWarning)\n",
      "/Users/anthonyriachy/opt/anaconda3/lib/python3.8/site-packages/statsmodels/tsa/base/tsa_model.py:578: ValueWarning: An unsupported index was provided and will be ignored when e.g. forecasting.\n",
      "  warnings.warn('An unsupported index was provided and will be'\n",
      "/Users/anthonyriachy/opt/anaconda3/lib/python3.8/site-packages/statsmodels/tsa/base/tsa_model.py:578: ValueWarning: An unsupported index was provided and will be ignored when e.g. forecasting.\n",
      "  warnings.warn('An unsupported index was provided and will be'\n",
      "/Users/anthonyriachy/opt/anaconda3/lib/python3.8/site-packages/statsmodels/tsa/arima_model.py:472: FutureWarning: \n",
      "statsmodels.tsa.arima_model.ARMA and statsmodels.tsa.arima_model.ARIMA have\n",
      "been deprecated in favor of statsmodels.tsa.arima.model.ARIMA (note the .\n",
      "between arima and model) and\n",
      "statsmodels.tsa.SARIMAX. These will be removed after the 0.12 release.\n",
      "\n",
      "statsmodels.tsa.arima.model.ARIMA makes use of the statespace framework and\n",
      "is both well tested and maintained.\n",
      "\n",
      "To silence this warning and continue using ARMA and ARIMA until they are\n",
      "removed, use:\n",
      "\n",
      "import warnings\n",
      "warnings.filterwarnings('ignore', 'statsmodels.tsa.arima_model.ARMA',\n",
      "                        FutureWarning)\n",
      "warnings.filterwarnings('ignore', 'statsmodels.tsa.arima_model.ARIMA',\n",
      "                        FutureWarning)\n",
      "\n",
      "  warnings.warn(ARIMA_DEPRECATION_WARN, FutureWarning)\n"
     ]
    }
   ],
   "source": [
    "time_series = df1_val['demand']\n",
    "X2_val = df1_val.demand\n",
    "\n",
    "# p, d, q \n",
    "# p periods taken for autoregressive model\n",
    "# d  integrated order, difference .. default = 1\n",
    "# q periods in moving average model\n",
    "\n",
    "arima_val = arima.ARIMA(X2_val , order=(6,1,1))\n",
    "arima_val_fit = arima_val.fit()"
   ]
  },
  {
   "cell_type": "code",
   "execution_count": null,
   "metadata": {
    "colab": {
     "base_uri": "https://localhost:8080/",
     "height": 68
    },
    "id": "e1DNpiDg8Htj",
    "outputId": "67ff7e45-8607-46c8-f588-ed6fd240bb09"
   },
   "outputs": [
    {
     "data": {
      "text/plain": [
       "array([1238.75755457,  845.70953364, 1060.3256149 , 1193.77084656,\n",
       "       1459.42752034, 1004.63386531, 1137.00257025, 1289.66032376,\n",
       "       1061.447701  , 1075.9879391 ])"
      ]
     },
     "execution_count": 34,
     "metadata": {},
     "output_type": "execute_result"
    }
   ],
   "source": [
    "pred_arima_val = arima_val_fit.forecast(steps = 10)[0]\n",
    "pred_arima_val"
   ]
  },
  {
   "cell_type": "code",
   "execution_count": null,
   "metadata": {
    "colab": {
     "base_uri": "https://localhost:8080/",
     "height": 34
    },
    "id": "qnPrf5Ka_6i4",
    "outputId": "eb3fc9dd-5d6f-4ee5-a465-56bd4b1df020"
   },
   "outputs": [
    {
     "name": "stdout",
     "output_type": "stream",
     "text": [
      "MAE for ARIMA is 264.668704\n"
     ]
    }
   ],
   "source": [
    "expected = [1058,887, 1676,1775,1759,1093,1217,1542,988,1510]\n",
    "\n",
    "mae_arima_val = mean_absolute_error (expected, pred_arima_val)\n",
    "print('MAE for ARIMA is %f' % mae_arima_val)"
   ]
  },
  {
   "cell_type": "code",
   "execution_count": null,
   "metadata": {
    "colab": {
     "base_uri": "https://localhost:8080/",
     "height": 51
    },
    "id": "0ZuDRLXPrHG6",
    "outputId": "230fee12-ed72-4bc8-c498-6ef5a2be1e93"
   },
   "outputs": [
    {
     "name": "stdout",
     "output_type": "stream",
     "text": [
      "MSE for ARIMA is 111264.865251\n",
      "RMSE for ARIMA is 333.563885\n"
     ]
    }
   ],
   "source": [
    "mse_arima_val = mean_squared_error(expected, pred_arima_val)\n",
    "print('MSE for ARIMA is %f' % mse_arima_val)\n",
    "rmse_arima_val = math.sqrt(mse_arima_val)\n",
    "print('RMSE for ARIMA is %f' % rmse_arima_val)"
   ]
  },
  {
   "cell_type": "markdown",
   "metadata": {
    "id": "CzLZfo9YFGC3"
   },
   "source": [
    "### Holt Winters\n"
   ]
  },
  {
   "cell_type": "code",
   "execution_count": null,
   "metadata": {
    "colab": {
     "base_uri": "https://localhost:8080/",
     "height": 51
    },
    "id": "igObnWVBFMRr",
    "outputId": "aa9e6931-b602-4aaa-8539-37f710ecebf4",
    "scrolled": true
   },
   "outputs": [
    {
     "name": "stderr",
     "output_type": "stream",
     "text": [
      "/Users/anthonyriachy/opt/anaconda3/lib/python3.8/site-packages/statsmodels/tsa/base/tsa_model.py:578: ValueWarning: An unsupported index was provided and will be ignored when e.g. forecasting.\n",
      "  warnings.warn('An unsupported index was provided and will be'\n",
      "/Users/anthonyriachy/opt/anaconda3/lib/python3.8/site-packages/statsmodels/tsa/holtwinters/model.py:427: FutureWarning: After 0.13 initialization must be handled at model creation\n",
      "  warnings.warn(\n",
      "/Users/anthonyriachy/opt/anaconda3/lib/python3.8/site-packages/statsmodels/tsa/base/tsa_model.py:578: ValueWarning: An unsupported index was provided and will be ignored when e.g. forecasting.\n",
      "  warnings.warn('An unsupported index was provided and will be'\n"
     ]
    }
   ],
   "source": [
    "holtwinters_val = holtwinters.ExponentialSmoothing(X2_val, seasonal_periods=7)\n",
    "holtwinters_val = holtwinters.ExponentialSmoothing(X2_val)\n",
    "holtwinters_val_fit = holtwinters_val.fit()"
   ]
  },
  {
   "cell_type": "code",
   "execution_count": null,
   "metadata": {
    "colab": {
     "base_uri": "https://localhost:8080/",
     "height": 122
    },
    "id": "7slsKCBgFMGv",
    "outputId": "b515a6bd-36cd-49f7-bb2e-a635671eb6c5"
   },
   "outputs": [
    {
     "name": "stderr",
     "output_type": "stream",
     "text": [
      "/Users/anthonyriachy/opt/anaconda3/lib/python3.8/site-packages/statsmodels/tsa/base/tsa_model.py:376: ValueWarning: No supported index is available. Prediction results will be given with an integer index beginning at `start`.\n",
      "  warnings.warn('No supported index is available.'\n"
     ]
    },
    {
     "data": {
      "text/plain": [
       "array([963.45782045, 963.45782045, 963.45782045, 963.45782045,\n",
       "       963.45782045, 963.45782045, 963.45782045, 963.45782045,\n",
       "       963.45782045, 963.45782045])"
      ]
     },
     "execution_count": 38,
     "metadata": {},
     "output_type": "execute_result"
    }
   ],
   "source": [
    "pred_holtwinters_val = np.array(holtwinters_val_fit.forecast(steps =10))\n",
    "pred_holtwinters_val"
   ]
  },
  {
   "cell_type": "code",
   "execution_count": null,
   "metadata": {
    "colab": {
     "base_uri": "https://localhost:8080/",
     "height": 34
    },
    "id": "AiJ5biivFL_M",
    "outputId": "2bfdcbb2-dd96-4d0e-daae-10f489d7b1f6"
   },
   "outputs": [
    {
     "name": "stdout",
     "output_type": "stream",
     "text": [
      "MAE for Holt Winters is 402.333744\n"
     ]
    }
   ],
   "source": [
    "expected = [1058,887, 1676,1775,1759,1093,1217,1542,988,1510]\n",
    "\n",
    "mae_holtwinters_val = mean_absolute_error (expected, pred_holtwinters_val)\n",
    "print('MAE for Holt Winters is %f' % mae_holtwinters_val)"
   ]
  },
  {
   "cell_type": "code",
   "execution_count": null,
   "metadata": {
    "colab": {
     "base_uri": "https://localhost:8080/",
     "height": 51
    },
    "id": "KK4jMh-Zr0Av",
    "outputId": "c469eecf-e935-4542-f212-163a2db030fd"
   },
   "outputs": [
    {
     "name": "stdout",
     "output_type": "stream",
     "text": [
      "MSE for Holt Winters is 252907.498748\n",
      "RMSE for Holt Winters is 502.899094\n"
     ]
    }
   ],
   "source": [
    "mse_holtwinters_val = mean_squared_error(expected, pred_holtwinters_val)\n",
    "print('MSE for Holt Winters is %f' % mse_holtwinters_val)\n",
    "rmse_holtwinters_val = math.sqrt(mse_holtwinters_val)\n",
    "print('RMSE for Holt Winters is %f' % rmse_holtwinters_val)"
   ]
  },
  {
   "cell_type": "markdown",
   "metadata": {},
   "source": [
    "### 6. Results assessment\n",
    "\n",
    "In this section, we compare the `RMSE` of the 5 forecasting methods used in the previous section. The model with the lowest `RMSE` will be chosen to forecast the demand of week 13 until end of week 14."
   ]
  },
  {
   "cell_type": "code",
   "execution_count": null,
   "metadata": {},
   "outputs": [
    {
     "data": {
      "text/html": [
       "<div>\n",
       "<style scoped>\n",
       "    .dataframe tbody tr th:only-of-type {\n",
       "        vertical-align: middle;\n",
       "    }\n",
       "\n",
       "    .dataframe tbody tr th {\n",
       "        vertical-align: top;\n",
       "    }\n",
       "\n",
       "    .dataframe thead th {\n",
       "        text-align: right;\n",
       "    }\n",
       "</style>\n",
       "<table border=\"1\" class=\"dataframe\">\n",
       "  <thead>\n",
       "    <tr style=\"text-align: right;\">\n",
       "      <th></th>\n",
       "      <th>Model</th>\n",
       "      <th>RMSE</th>\n",
       "    </tr>\n",
       "  </thead>\n",
       "  <tbody>\n",
       "    <tr>\n",
       "      <th>2</th>\n",
       "      <td>Linear SVR</td>\n",
       "      <td>125.323277</td>\n",
       "    </tr>\n",
       "    <tr>\n",
       "      <th>0</th>\n",
       "      <td>Linear Regression</td>\n",
       "      <td>160.453804</td>\n",
       "    </tr>\n",
       "    <tr>\n",
       "      <th>1</th>\n",
       "      <td>Isotonic Regression</td>\n",
       "      <td>181.648818</td>\n",
       "    </tr>\n",
       "    <tr>\n",
       "      <th>3</th>\n",
       "      <td>ARIMA</td>\n",
       "      <td>333.563885</td>\n",
       "    </tr>\n",
       "    <tr>\n",
       "      <th>4</th>\n",
       "      <td>Holt Winters</td>\n",
       "      <td>502.899094</td>\n",
       "    </tr>\n",
       "  </tbody>\n",
       "</table>\n",
       "</div>"
      ],
      "text/plain": [
       "                 Model        RMSE\n",
       "2           Linear SVR  125.323277\n",
       "0    Linear Regression  160.453804\n",
       "1  Isotonic Regression  181.648818\n",
       "3                ARIMA  333.563885\n",
       "4         Holt Winters  502.899094"
      ]
     },
     "execution_count": 69,
     "metadata": {},
     "output_type": "execute_result"
    }
   ],
   "source": [
    "models = pd.DataFrame({\n",
    "    'Model': ['Linear Regression', 'Isotonic Regression', 'Linear SVR', \n",
    "              'ARIMA', 'Holt Winters'],\n",
    "    'RMSE': [rmse_lin_reg_val, rmse_iso_reg_val, rmse_svr_val, \n",
    "              rmse_arima_val, rmse_holtwinters_val]})\n",
    "\n",
    "models.sort_values(by='RMSE', ascending=True)"
   ]
  },
  {
   "cell_type": "markdown",
   "metadata": {},
   "source": [
    "#### `Linear SVR` model has the lowest `RMSE` of **125.32**. \n",
    "\n",
    "#### Next, we will use `Linear SVR` model to forecast the demand of week 13 starting day 4 until end of week 14."
   ]
  },
  {
   "cell_type": "markdown",
   "metadata": {
    "id": "h50NP5j-xI8U"
   },
   "source": [
    "### Forecasting with Linear SVR"
   ]
  },
  {
   "cell_type": "code",
   "execution_count": null,
   "metadata": {
    "colab": {
     "base_uri": "https://localhost:8080/",
     "height": 34
    },
    "id": "sx93xjuVxeql",
    "outputId": "ac471213-76a6-4c94-f271-b2969f0a3026"
   },
   "outputs": [
    {
     "data": {
      "text/plain": [
       "0.628914183763787"
      ]
     },
     "execution_count": 94,
     "metadata": {},
     "output_type": "execute_result"
    }
   ],
   "source": [
    "svr_regr = LinearSVR(random_state=0, tol=1e-5, max_iter=1e6)\n",
    "svr_regr.fit(X, y)\n",
    "\n",
    "svr_regr.score(X, y)"
   ]
  },
  {
   "cell_type": "code",
   "execution_count": null,
   "metadata": {
    "colab": {
     "base_uri": "https://localhost:8080/",
     "height": 34
    },
    "id": "9bo_SeBXywBM",
    "outputId": "3d942d0d-dbbe-4446-e301-f5bde942c174"
   },
   "outputs": [
    {
     "name": "stdout",
     "output_type": "stream",
     "text": [
      "[1.03837966] [15.40064697]\n"
     ]
    }
   ],
   "source": [
    "# Linear SVR regression has the form of y = a*x +b \n",
    "# \"a\" represents the regression's coefficient \n",
    "# \"b\" represents the regression's intercept\n",
    "\n",
    "print (svr_regr.coef_ , svr_regr.intercept_)\n",
    "\n",
    "# y = 1.04*x + 15.4"
   ]
  },
  {
   "cell_type": "code",
   "execution_count": null,
   "metadata": {
    "colab": {
     "base_uri": "https://localhost:8080/",
     "height": 68
    },
    "id": "qPCbAkVuxxew",
    "outputId": "b82cb07b-460c-4252-9409-ff802e99709b"
   },
   "outputs": [
    {
     "data": {
      "text/plain": [
       "array([1735.99574228, 1721.45842705, 1182.53938392, 1130.62040096,\n",
       "       1924.98084026, 1948.86357242, 1973.78468424, 1776.49254899,\n",
       "       1055.8570655 ,  839.87409638, 1163.84855005])"
      ]
     },
     "execution_count": 96,
     "metadata": {},
     "output_type": "execute_result"
    }
   ],
   "source": [
    "svr_regr.predict([[1657],[1643],[1124],[1074],[1839],[1862],[1886],[1696],[1002],[794],[1106]])"
   ]
  },
  {
   "cell_type": "markdown",
   "metadata": {},
   "source": [
    "### 7. Recommendation & action plan \n",
    "\n",
    "Based on the predictions of the `Linear SVR` model, it seems that the predict demand for Saturday is of **1925** rooms. That being said, we do not encourage manager Snow to take the additional **60** rooms as the prediction shows that they are overbooked by **48** rooms *(1925 - 1877 = 48)*.\n",
    "\n",
    "##### Snow should reject the request in its entirety.\n",
    "\n",
    "#### Risk & mitigation\n",
    "\n",
    "* Risk 1: Forecast is not accurate - Mitigation: Feed more data into the model\n",
    "* Risk 2: High number of no-shows -  Mitigation: Require a deposit to protect the hotel from lost revenue\n",
    "* Risk 3: Last minute cancellations - Mitigation: Apply discounts to rooms if they are empty on short notice."
   ]
  }
 ],
 "metadata": {
  "colab": {
   "name": "480case2.ipynb",
   "provenance": []
  },
  "kernelspec": {
   "display_name": "Python 3",
   "language": "python",
   "name": "python3"
  },
  "language_info": {
   "codemirror_mode": {
    "name": "ipython",
    "version": 3
   },
   "file_extension": ".py",
   "mimetype": "text/x-python",
   "name": "python",
   "nbconvert_exporter": "python",
   "pygments_lexer": "ipython3",
   "version": "3.9.16"
  }
 },
 "nbformat": 4,
 "nbformat_minor": 1
}
